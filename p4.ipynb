{
 "cells": [
  {
   "cell_type": "code",
   "execution_count": null,
   "metadata": {
    "execution": {
     "iopub.execute_input": "2022-05-20T17:06:40.961845Z",
     "iopub.status.busy": "2022-05-20T17:06:40.961519Z",
     "iopub.status.idle": "2022-05-20T17:06:47.596452Z",
     "shell.execute_reply": "2022-05-20T17:06:47.595647Z",
     "shell.execute_reply.started": "2022-05-20T17:06:40.961761Z"
    },
    "id": "szA8_rS4_D9B"
   },
   "outputs": [],
   "source": [
    "import os\n",
    "import cv2\n",
    "import numpy as np\n",
    "import pandas as pd\n",
    "import matplotlib.pyplot as plt\n",
    "from sklearn.model_selection import train_test_split\n",
    "from sklearn.metrics import confusion_matrix\n",
    "from lib.utils import *\n",
    "from keras.callbacks import ReduceLROnPlateau\n",
    "from tensorflow.keras.utils import to_categorical\n",
    "from keras.preprocessing.image import ImageDataGenerator\n",
    "from tensorflow.keras.optimizers import SGD, Adam\n",
    "from keras.models import Sequential, load_model\n",
    "from keras.layers import Flatten, Dense, Dropout\n"
   ]
  },
  {
   "cell_type": "code",
   "execution_count": null,
   "metadata": {
    "execution": {
     "iopub.execute_input": "2022-05-20T17:06:47.628449Z",
     "iopub.status.busy": "2022-05-20T17:06:47.628025Z",
     "iopub.status.idle": "2022-05-20T17:06:47.638948Z",
     "shell.execute_reply": "2022-05-20T17:06:47.638160Z",
     "shell.execute_reply.started": "2022-05-20T17:06:47.628409Z"
    }
   },
   "outputs": [],
   "source": [
    "dataset_dir='dataset'\n"
   ]
  },
  {
   "cell_type": "code",
   "execution_count": null,
   "metadata": {
    "execution": {
     "iopub.execute_input": "2022-05-20T17:06:47.642418Z",
     "iopub.status.busy": "2022-05-20T17:06:47.641834Z",
     "iopub.status.idle": "2022-05-20T17:06:49.198662Z",
     "shell.execute_reply": "2022-05-20T17:06:49.197835Z",
     "shell.execute_reply.started": "2022-05-20T17:06:47.642379Z"
    },
    "id": "WnrbLMiE035D",
    "outputId": "11e44dba-2861-4455-f730-44e2483605ad"
   },
   "outputs": [],
   "source": [
    "def get_dataCategories(dataset_dir):\n",
    "  \n",
    "    import glob\n",
    "\n",
    "    categories = []\n",
    "    for folder_name in os.listdir(dataset_dir):\n",
    "        if os.path.isdir(os.path.join(dataset_dir, folder_name)):\n",
    "            nbr_files = len(\n",
    "                glob.glob(os.path.join(dataset_dir, folder_name) + \"/*.jpg\")\n",
    "            )\n",
    "            categories.append(np.array([folder_name, nbr_files]))\n",
    "\n",
    "    categories.sort(key=lambda a: a[0])\n",
    "    cat = np.array(categories)\n",
    "\n",
    "    return list(cat[:, 0]), list(cat[:, 1])\n",
    "\n",
    "\n",
    "\n",
    "\n",
    "categories, nbr_files = get_dataCategories(dataset_dir)\n",
    "\n",
    "df = pd.DataFrame({\"categorie\": categories, \"numbre of files\": nbr_files})\n",
    "print(\"number of categories: \", len(categories))\n",
    "df\n"
   ]
  },
  {
   "cell_type": "code",
   "execution_count": null,
   "metadata": {
    "execution": {
     "iopub.execute_input": "2022-05-20T17:06:49.201008Z",
     "iopub.status.busy": "2022-05-20T17:06:49.200422Z",
     "iopub.status.idle": "2022-05-20T17:08:29.644488Z",
     "shell.execute_reply": "2022-05-20T17:08:29.643605Z",
     "shell.execute_reply.started": "2022-05-20T17:06:49.200967Z"
    },
    "id": "XdfMW6BshBKL",
    "outputId": "d4023454-8be2-49fc-c8f7-eb44dcb12325"
   },
   "outputs": [],
   "source": [
    "def create_dataset(datadir, categories, img_wid, img_high):\n",
    "  \n",
    "    \n",
    "    X, y = [], []\n",
    "    for category in categories:\n",
    "        path = os.path.join(datadir, category)\n",
    "        class_num = categories.index(category)\n",
    "        for img in os.listdir(path):\n",
    "            try:\n",
    "                img_array = cv2.imread(os.path.join(path, img))\n",
    "                ima_resize_rgb = cv2.resize(img_array, (img_wid, img_high))\n",
    "\n",
    "                X.append(ima_resize_rgb)\n",
    "                y.append(class_num)\n",
    "\n",
    "            except Exception as e:\n",
    "                pass\n",
    "\n",
    "    y = np.array(y)\n",
    "    X = np.array(X).reshape(y.shape[0], img_wid, img_wid, 3)\n",
    "    return X, y\n",
    "\n",
    "\n",
    "\n",
    "\n",
    "img_wid, img_high = 100, 100\n",
    "X, y = create_dataset(dataset_dir, categories, img_wid, img_high)\n",
    "\n",
    "print(f\"X: {X.shape}\")\n",
    "print(f\"y: {y.shape}\")\n"
   ]
  },
  {
   "cell_type": "code",
   "execution_count": null,
   "metadata": {
    "execution": {
     "iopub.execute_input": "2022-05-20T17:08:29.646477Z",
     "iopub.status.busy": "2022-05-20T17:08:29.646177Z",
     "iopub.status.idle": "2022-05-20T17:08:30.154326Z",
     "shell.execute_reply": "2022-05-20T17:08:30.152933Z",
     "shell.execute_reply.started": "2022-05-20T17:08:29.646436Z"
    },
    "id": "2nJYio23jke-",
    "outputId": "8a203241-76d8-43a5-cae9-07371edf7b9e"
   },
   "outputs": [],
   "source": [
    "plt.figure(figsize=(12, 5))\n",
    "st, end = 0, 500\n",
    "for i in range(8):\n",
    "    plt.subplot(2, 4, i + 1)\n",
    "    idx = np.random.randint(st, end)\n",
    "    st = end + 1\n",
    "    end = (i + 2) * 500\n",
    "    \n",
    "    plt.imshow(X[idx][:, :, ::-1])\n",
    "    plt.title(f\"{i}. {categories[y[idx]]}\")\n",
    "    plt.axis(\"off\")\n",
    "plt.show()\n"
   ]
  },
  {
   "cell_type": "code",
   "execution_count": null,
   "metadata": {
    "execution": {
     "iopub.execute_input": "2022-05-20T17:08:30.155778Z",
     "iopub.status.busy": "2022-05-20T17:08:30.155509Z",
     "iopub.status.idle": "2022-05-20T17:08:30.204057Z",
     "shell.execute_reply": "2022-05-20T17:08:30.203073Z",
     "shell.execute_reply.started": "2022-05-20T17:08:30.155747Z"
    },
    "id": "bVzyprep8Mft",
    "outputId": "9537eb5c-6ec0-4f63-832e-cd2271637657"
   },
   "outputs": [],
   "source": [
    "\n",
    "Y = np.reshape(y, (len(y), 1))\n",
    "\n",
    "X_train, X_test, y_train, y_test = train_test_split(\n",
    "    X, Y, train_size=0.8, random_state=42\n",
    ")\n",
    "print(f\"X_train: {X_train.shape}\")\n",
    "print(f\"t_train: {y_train.shape}\")\n",
    "print(f\"X_test: {X_test.shape}\")\n",
    "print(f\"y_test: {y_test.shape}\")\n",
    "\n",
    "\n",
    "\n",
    "\n",
    "\n",
    "\n"
   ]
  },
  {
   "cell_type": "code",
   "execution_count": null,
   "metadata": {},
   "outputs": [],
   "source": [
    "x_train, x_val, y_train, y_val = train_test_split(X_train, y_train, test_size=0.3)\n",
    "x_test = X_test"
   ]
  },
  {
   "cell_type": "code",
   "execution_count": null,
   "metadata": {},
   "outputs": [],
   "source": [
    "y_train = to_categorical(y_train)\n",
    "y_val = to_categorical(y_val)\n",
    "y_test = to_categorical(y_test)"
   ]
  },
  {
   "cell_type": "code",
   "execution_count": null,
   "metadata": {
    "execution": {
     "iopub.execute_input": "2022-05-20T17:08:30.259186Z",
     "iopub.status.busy": "2022-05-20T17:08:30.258764Z",
     "iopub.status.idle": "2022-05-20T17:08:30.580213Z",
     "shell.execute_reply": "2022-05-20T17:08:30.579362Z",
     "shell.execute_reply.started": "2022-05-20T17:08:30.259145Z"
    },
    "id": "fHjeq3pS_XUZ"
   },
   "outputs": [],
   "source": [
    "\n",
    "train_generator = ImageDataGenerator(\n",
    "    rotation_range=2, horizontal_flip=True, zoom_range=0.1\n",
    ")\n",
    "\n",
    "val_generator = ImageDataGenerator(\n",
    "    rotation_range=2, horizontal_flip=True, zoom_range=0.1\n",
    ")\n",
    "\n",
    "test_generator = ImageDataGenerator(\n",
    "    rotation_range=2, horizontal_flip=True, zoom_range=0.1\n",
    ")\n",
    "\n",
    "\n",
    "train_generator.fit(x_train)\n",
    "val_generator.fit(x_val)\n",
    "test_generator.fit(x_test)\n"
   ]
  },
  {
   "cell_type": "code",
   "execution_count": null,
   "metadata": {},
   "outputs": [],
   "source": [
    "t,s=scaler_transform(X)\n",
    "ac=[]\n",
    "X_train, X_test, Y_train, Y_test = train_test_split(t, s, test_size=0.33, random_state=42)"
   ]
  },
  {
   "cell_type": "code",
   "execution_count": null,
   "metadata": {},
   "outputs": [],
   "source": [
    "from keras import layers\n",
    "import tensorflow as tf\n",
    "from tensorflow import keras\n",
    "from tensorflow.keras import layers\n",
    "x = layers.Input(shape=(12, 7)) \n",
    "cell = layers.SimpleRNNCell(3, activation='tanh')  \n",
    "rnn = layers.RNN(cell)\n",
    "rnn_output = rnn(x)\n",
    "model = Sequential()\n",
    "model.add(layers.Dense(20, input_dim=4, activation='relu'))\n",
    "model.add(layers.Dense(10,  activation='tanh'))\n",
    "model.add(layers.Dense(1024, activation='relu'))\n",
    "\n",
    "model.add(layers.BatchNormalization())\n",
    "model.add(layers.Dropout(0.5))\n",
    "model.add(layers.Dense(1, activation='sigmoid'))\n",
    "model.compile(loss='binary_crossentropy', \n",
    "              optimizer='adam')\n",
    "model.summary()\n",
    "classifier_nn = model.fit(X_train,Y_train,\n",
    "                    epochs=10,\n",
    "                    verbose=True,\n",
    "                    validation_data=(X_test, Y_test),\n",
    "                    batch_size=15)\n",
    "ac.append(accuracy_score(model,Y_test,sample_weight=0.2)*100)"
   ]
  },
  {
   "cell_type": "code",
   "execution_count": null,
   "metadata": {},
   "outputs": [],
   "source": [
    "from keras.models import Sequential\n",
    "from keras.layers import Dense\n",
    "model = Sequential()\n",
    "model.add(Dense(11,activation='relu',input_dim=4))\n",
    "model.add(Dense(1,activation='sigmoid'))\n",
    "\n",
    "model.compile(loss='binary_crossentropy',optimizer='adam')\n",
    "model.fit(X_train,y_train,epochs=30)\n",
    "ac.append(accuracy_score(y_pred,Y_test,sample_weight=1)*100)"
   ]
  },
  {
   "cell_type": "code",
   "execution_count": null,
   "metadata": {
    "execution": {
     "iopub.execute_input": "2022-05-20T17:12:58.260841Z",
     "iopub.status.busy": "2022-05-20T17:12:58.260609Z",
     "iopub.status.idle": "2022-05-20T17:12:59.637377Z",
     "shell.execute_reply": "2022-05-20T17:12:59.635944Z",
     "shell.execute_reply.started": "2022-05-20T17:12:58.260806Z"
    },
    "id": "Ue-FrHDBJAnE",
    "scrolled": true
   },
   "outputs": [],
   "source": [
    "from tensorflow import keras\n",
    "model = keras.models.load_model('model.h5')\n",
    "score = model.evaluate(x_test, y_test, verbose=0)\n",
    "print(\"Test loss:\", round(score[0], 3))\n",
    "print(\"Test accuracy:\", round(score[1], 3))\n"
   ]
  },
  {
   "cell_type": "code",
   "execution_count": null,
   "metadata": {
    "execution": {
     "iopub.execute_input": "2022-05-20T17:12:59.640957Z",
     "iopub.status.busy": "2022-05-20T17:12:59.640732Z",
     "iopub.status.idle": "2022-05-20T17:12:59.653435Z",
     "shell.execute_reply": "2022-05-20T17:12:59.652476Z",
     "shell.execute_reply.started": "2022-05-20T17:12:59.640930Z"
    },
    "id": "5itRdutxhkYv"
   },
   "outputs": [],
   "source": [
    "\n",
    "def cm_plt(ax, cm, classes, cmap, title, normalize):\n",
    "   \n",
    "    im = ax.imshow(cm, interpolation=\"nearest\", cmap=cmap)\n",
    "    ax.figure.colorbar(im, ax=ax)\n",
    "   \n",
    "    ax.set(\n",
    "        xticks=np.arange(cm.shape[1]),\n",
    "        yticks=np.arange(cm.shape[0]),\n",
    "       \n",
    "        xticklabels=classes,\n",
    "        yticklabels=classes,\n",
    "        title=title,\n",
    "        ylabel=\"True label\",\n",
    "        xlabel=\"Predicted label\",\n",
    "    )\n",
    "\n",
    "    \n",
    "    plt.setp(ax.get_xticklabels(), rotation=45, ha=\"right\", rotation_mode=\"anchor\")\n",
    "\n",
    "    \n",
    "    fmt = \".2f\" if normalize else \"d\"\n",
    "    thresh = cm.max() / 2.0\n",
    "    for i in range(cm.shape[0]):\n",
    "        for j in range(cm.shape[1]):\n",
    "            ax.text(\n",
    "                j,\n",
    "                i,\n",
    "                format(cm[i, j], fmt),\n",
    "                ha=\"center\",\n",
    "                va=\"center\",\n",
    "                color=\"white\" if cm[i, j] > thresh else \"black\",\n",
    "            )\n",
    "\n",
    "    return ax\n",
    "\n",
    "\n",
    "\n",
    "def plt_confusion_mat(cm, classes, fig_size, cmap=plt.cm.Blues):\n",
    "   \n",
    "    fig, (ax1, ax2) = plt.subplots(1, 2, figsize=fig_size)\n",
    "    ax1 = cm_plt(\n",
    "        ax1,\n",
    "        cm,\n",
    "        classes,\n",
    "        cmap,\n",
    "        title=\"Confusion matrix, without normalization\",\n",
    "        normalize=False,\n",
    "    )\n",
    "\n",
    "    cmn = cm.astype(\"float\") / cm.sum(axis=1)[:, np.newaxis]\n",
    "    ax2 = cm_plt(\n",
    "        ax2,\n",
    "        cmn,\n",
    "        classes,\n",
    "        cmap,\n",
    "        title=\"Normalized confusion matrix\",\n",
    "        normalize=True,\n",
    "    )\n"
   ]
  },
  {
   "cell_type": "code",
   "execution_count": null,
   "metadata": {
    "execution": {
     "iopub.execute_input": "2022-05-20T17:12:59.655961Z",
     "iopub.status.busy": "2022-05-20T17:12:59.655320Z",
     "iopub.status.idle": "2022-05-20T17:13:00.364968Z",
     "shell.execute_reply": "2022-05-20T17:13:00.364102Z",
     "shell.execute_reply.started": "2022-05-20T17:12:59.655919Z"
    }
   },
   "outputs": [],
   "source": [
    "\n",
    "y_pred = np.argmax(model.predict(x_test), axis=1)\n",
    "y_true = np.argmax(y_test, axis=1)\n"
   ]
  },
  {
   "cell_type": "code",
   "execution_count": null,
   "metadata": {
    "execution": {
     "iopub.execute_input": "2022-05-20T17:13:01.531008Z",
     "iopub.status.busy": "2022-05-20T17:13:01.530641Z",
     "iopub.status.idle": "2022-05-20T17:13:03.011489Z",
     "shell.execute_reply": "2022-05-20T17:13:03.010820Z",
     "shell.execute_reply.started": "2022-05-20T17:13:01.530966Z"
    },
    "id": "k-BDXR1IxBns",
    "outputId": "31f28b7d-742a-4528-c2d8-1f334f6d0ee5"
   },
   "outputs": [],
   "source": [
    "def predict_categorie_img(img, model, categories):\n",
    "     \n",
    "    try:\n",
    "        img = img[None, :, :, :]\n",
    "    except:\n",
    "        raise TypeError(\"test image dimension != 3\")\n",
    "    predict = model.predict(img)\n",
    "    idx_cat = np.argmax(predict, axis=1)[0]\n",
    "    return idx_cat, categories[idx_cat]\n",
    "\n",
    "\n",
    "\n",
    "\n",
    "\n",
    "plt.figure(figsize=(20, 8))\n",
    "for i in range(10):\n",
    "    idx = np.random.randint(len(y))\n",
    "    img = X[idx]\n",
    "    pred_class = predict_categorie_img(img, model, categories)\n",
    "    true_class = y[idx], categories[y[idx]]\n",
    "\n",
    "    plt.subplot(2, 5, i + 1)\n",
    "    plt.imshow(img[:, :, ::-1])\n",
    "    plt.title(f\"Pred:[{pred_class}]\\nTrue:[{true_class}]\")\n",
    "    plt.axis(\"off\")\n",
    "plt.show()\n"
   ]
  },
  {
   "cell_type": "code",
   "execution_count": null,
   "metadata": {},
   "outputs": [],
   "source": [
    "import numpy as np\n",
    "import seaborn as sns\n",
    "import matplotlib as plt\n",
    "\n",
    "plt.style.use('seaborn')\n",
    "x=['CNN','RNN']\n",
    "\n",
    "ax=sns.barplot(x,ac)\n",
    "ax.set_title('Accuracy comparison')\n",
    "ax.set_ylabel('Accuracy')\n",
    "#ax.yaxis.set_major_locator(ticker.LinearLocator())\n",
    "print(\"the accuracy of {} is {} and {} is {}\".format(x[0],ac[0],x[1],ac[1]))\n",
    "ax.set_ylim(50,100)"
   ]
  },
  {
   "cell_type": "code",
   "execution_count": null,
   "metadata": {},
   "outputs": [],
   "source": []
  }
 ],
 "metadata": {
  "kernelspec": {
   "display_name": "Python 3 (ipykernel)",
   "language": "python",
   "name": "python3"
  },
  "language_info": {
   "codemirror_mode": {
    "name": "ipython",
    "version": 3
   },
   "file_extension": ".py",
   "mimetype": "text/x-python",
   "name": "python",
   "nbconvert_exporter": "python",
   "pygments_lexer": "ipython3",
   "version": "3.9.7"
  }
 },
 "nbformat": 4,
 "nbformat_minor": 4
}
